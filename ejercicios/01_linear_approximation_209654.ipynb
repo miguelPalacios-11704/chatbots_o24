{
 "cells": [
  {
   "cell_type": "markdown",
   "metadata": {},
   "source": [
    "<a target=\"_blank\" href=\"https://colab.research.google.com/github/miguelPalacios-11704/chatbots_o24/blob/main/ejercicios/01_linear_approximation_209654.ipynb\">\n",
    "  <img src=\"https://colab.research.google.com/assets/colab-badge.svg\" alt=\"Open In Colab\"/>\n",
    "</a>"
   ]
  },
  {
   "cell_type": "markdown",
   "metadata": {
    "vscode": {
     "languageId": "plaintext"
    }
   },
   "source": [
    "# What is a Linear Approximation"
   ]
  },
  {
   "cell_type": "markdown",
   "metadata": {
    "vscode": {
     "languageId": "plaintext"
    }
   },
   "source": [
    "[![Watch the video](https://img.youtube.com/vi/c4_MJg_c49k/0.jpg)](https://www.youtube.com/watch?v=c4_MJg_c49k)\n"
   ]
  },
  {
   "cell_type": "markdown",
   "metadata": {
    "vscode": {
     "languageId": "plaintext"
    }
   },
   "source": [
    "[![Watch the video](https://img.youtube.com/vi/Xj129kA3Ci0/0.jpg)](https://www.youtube.com/watch?v=Xj129kA3Ci0)\n"
   ]
  },
  {
   "cell_type": "markdown",
   "metadata": {},
   "source": [
    "[![Watch the video](https://img.youtube.com/vi/WWqE7YHR4Jc/0.jpg)](https://www.youtube.com/watch?v=WWqE7YHR4Jc)\n"
   ]
  },
  {
   "cell_type": "markdown",
   "metadata": {},
   "source": [
    "# Questions to Answer"
   ]
  },
  {
   "cell_type": "markdown",
   "metadata": {
    "vscode": {
     "languageId": "plaintext"
    }
   },
   "source": [
    What is Interpolation?
Es un método para hallar los puntos que mejor se acoplan a una cierta tendencia entre los puntos de un cierto conjunto discreto y sirve para hallar los puntos intermedios a ellos.

What is Extrapolation?
Es un método para hallar los puntos que mejor se acoplan a una cierta tendencia más allá de los puntos de un cierto conjunto discreto y sirve para hallar los puntos que mejor se acomodan a ellos.

What is the Difference between them? La interpolación se trata de estimar un valor en un conjunto de valores conocidos y la extrapolación consiste en predecir los puntos que cumplen con la tendencia de un cierto conjunto de puntos. Creo que es análogo a un rompecabezas. Mientras en la interpolación sería como si a tu rompecabezas le faltaran piezas y trataras de completar la imagen averiguando como son las piezas que faltan la extrapolación serpia como si tuvieras un compecabezas con todas las piezas y trataras de averiguar que piezas continuan con la imagen que ya de por sí se forma con el rompecabezas, es decir predecir que piezas podrían continuar con el rompecabezas

What is Linear-Regression?
Es la forma de establecer una relación entre como varía una variable que depende de otras variables que están dadas. Trata de encontrar la mejor linea recta que se acopla a esa variación

What is the Stone-Weistrass theorem? El teorema extiende el teorema de aproximación original de Weierstrass, que establece que cualquier función continua definida en un intervalo cerrado [a,b] puede aproximarse uniformemente mediante funciones polinómicas. El teorema de Stone-Weierstrass amplía esto a espacios compactos arbitrarios de Hausdorff, permitiendo la aproximación de funciones continuas mediante elementos de una subálgebra de funciones continuas.
   ]
  },
  {
   "cell_type": "markdown",
   "metadata": {
    "vscode": {
     "languageId": "plaintext"
    }
   },
   "source": [
    "## Answers"
   ]
  },
  {
   "cell_type": "markdown",
   "metadata": {},
   "source": []
  }
 ],
 "metadata": {
  "language_info": {
   "name": "python"
  }
 },
 "nbformat": 4,
 "nbformat_minor": 2
}
